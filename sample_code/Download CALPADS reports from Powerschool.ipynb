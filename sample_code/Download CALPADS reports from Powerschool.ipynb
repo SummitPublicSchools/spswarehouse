{
 "cells": [
  {
   "cell_type": "code",
   "execution_count": null,
   "id": "fc85c6b4",
   "metadata": {},
   "outputs": [],
   "source": [
    "import datetime\n",
    "import importlib\n",
    "\n",
    "import sys\n",
    "sys.path.insert(0, \"..\") # Preference our local code first\n",
    "\n",
    "import spswarehouse.powerschool.powerschool_calpads"
   ]
  },
  {
   "cell_type": "code",
   "execution_count": null,
   "id": "0dfdd10e",
   "metadata": {},
   "outputs": [],
   "source": [
    "# We can't use the system credentials since we're importing our local spswarehouse code\n",
    "powerschool_config = {\n",
    "    \"username\": \"tahomacalpads\",\n",
    "    \"password\": \"[INSERT PASSWORD HERE]\",\n",
    "    \"host\":\"https://summitps.powerschool.com\"\n",
    "}\n",
    "\n",
    "school_config = {\n",
    "    'school_short_name': 'Tahoma',\n",
    "    'school_full_name' : 'Summit Public School: Tahoma', # Should match exactly what is in the PowerSchool school selection dropdown\n",
    "    'ps_school_subdistrict_name' : 'Tahoma', # Should match the subdistricts in PowerSchool\n",
    "    'lea_code' : '26609', # From CALPADS\n",
    "}\n",
    "\n",
    "SCHOOL_YEAR = 'sy24' # syXX format\n",
    "SCHOOL_YEAR_POWERSCHOOL_DROPDOWN = '23-24 2023-2024' # 'XX-YY 20XX-20YY' format\n",
    "FIRST_DAY_OF_SCHOOL = \"08/16/2023\" # MM/DD/YYYY format\n",
    "LAST_DAY_OF_SCHOOL = \"06/07/2024\" # MM/DD/YYYY format\n",
    "CENSUS_DATE = \"10/04/2023\" # MM/DD/YYYY format\n",
    "\n",
    "SUBMISSION_WINDOW = 'EOY'\n",
    "CALPADS_FILE_ABBREVIATION='SPRG'\n",
    "REPORT_PARAMETERS = {\n",
    "    'report_start_date' : FIRST_DAY_OF_SCHOOL, \n",
    "    'report_end_date' : LAST_DAY_OF_SCHOOL, \n",
    "    'submission_type' : 'End of Year 2', # 'Fall 1' or 'End of Year 2'\n",
    "}\n",
    "\n",
    "WORKING_DIRECTORY = \".\""
   ]
  },
  {
   "cell_type": "code",
   "execution_count": null,
   "id": "431069f5",
   "metadata": {},
   "outputs": [],
   "source": [
    "def create_calpads_report_file_postfix(calpads_file_abbreviation: str, school_name: str):\n",
    "    \"\"\"\n",
    "    Creates the standard postfix for CALPADS upload files.\n",
    "\n",
    "    Parameters:\n",
    "    calpads_file_abbreviation: The report abbreviation.\n",
    "    school_name: The school short name.\n",
    "\n",
    "    Returns:\n",
    "    str: The postfix for the CALPADS report files.\n",
    "    \"\"\"\n",
    "    current_timestamp = datetime.datetime.now().strftime('%Y%m%d%H%M')\n",
    "    \n",
    "    file_postfix = \"_\" + calpads_file_abbreviation + \"_\" + current_timestamp + \"_\" + school_name\n",
    "        \n",
    "    return file_postfix"
   ]
  },
  {
   "cell_type": "code",
   "execution_count": null,
   "id": "6fc44fef",
   "metadata": {},
   "outputs": [],
   "source": [
    "# Grab fresh code\n",
    "importlib.reload(spswarehouse.powerschool.powerschool_calpads)\n",
    "\n",
    "psc = spswarehouse.powerschool.powerschool_calpads.PowerSchoolCALPADS(\n",
    "    # Use the system credentials\n",
    "    config=powerschool_config,\n",
    "    # We want to see what we're doing!\n",
    "    headless=False\n",
    ")\n",
    "\n",
    "report_generated_outcome = psc.download_calpads_report_for_school(\n",
    "    school_full_name=school_config['school_full_name'],\n",
    "    ps_school_subdistrict_name=school_config['ps_school_subdistrict_name'],\n",
    "    ps_school_year_dropdown=SCHOOL_YEAR_POWERSCHOOL_DROPDOWN,\n",
    "    submission_window=SUBMISSION_WINDOW,\n",
    "    calpads_report_abbreviation=CALPADS_FILE_ABBREVIATION,\n",
    "    file_postfix=create_calpads_report_file_postfix(CALPADS_FILE_ABBREVIATION, school_config['school_short_name'].lower()),\n",
    "    destination_directory_path=WORKING_DIRECTORY, \n",
    "    report_parameters=REPORT_PARAMETERS,\n",
    ")\n",
    "\n",
    "print(report_generated_outcome)\n",
    "\n",
    "psc.quit()"
   ]
  }
 ],
 "metadata": {
  "kernelspec": {
   "display_name": "Python 3 (ipykernel)",
   "language": "python",
   "name": "python3"
  },
  "language_info": {
   "codemirror_mode": {
    "name": "ipython",
    "version": 3
   },
   "file_extension": ".py",
   "mimetype": "text/x-python",
   "name": "python",
   "nbconvert_exporter": "python",
   "pygments_lexer": "ipython3",
   "version": "3.10.9"
  }
 },
 "nbformat": 4,
 "nbformat_minor": 5
}
