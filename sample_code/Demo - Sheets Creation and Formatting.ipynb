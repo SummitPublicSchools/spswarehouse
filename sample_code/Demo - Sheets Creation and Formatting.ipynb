{
 "cells": [
  {
   "cell_type": "code",
   "execution_count": 14,
   "metadata": {
    "ExecuteTime": {
     "end_time": "2021-01-14T20:29:04.639033Z",
     "start_time": "2021-01-14T20:29:04.633582Z"
    }
   },
   "outputs": [],
   "source": [
    "import spswarehouse\n",
    "import ducttape\n",
    "from spswarehouse.warehouse import Warehouse\n",
    "from spswarehouse.googlesheets import GoogleSheets as gs, get_google_service_account_email\n",
    "from spswarehouse.googledrive import GoogleDrive\n",
    "from gspread_formatting import *\n",
    "import datetime as dt\n",
    "import time\n"
   ]
  },
  {
   "cell_type": "code",
   "execution_count": null,
   "metadata": {},
   "outputs": [],
   "source": []
  },
  {
   "cell_type": "code",
   "execution_count": 18,
   "metadata": {
    "ExecuteTime": {
     "end_time": "2021-01-14T20:37:34.163918Z",
     "start_time": "2021-01-14T20:35:44.122758Z"
    }
   },
   "outputs": [
    {
     "name": "stdout",
     "output_type": "stream",
     "text": [
      "Created and shared sheet for mdunham@summitps.org\n",
      "Created and shared sheet for ablack@summitps.org\n",
      "Created and shared sheet for echang@summitps.org\n",
      "Created and shared sheet for zdowning@summitps.org\n",
      "Created and shared sheet for agourdin@summitps.org\n",
      "Created and shared sheet for hshen@summitps.org\n",
      "Created and shared sheet for aalimoh@summitps.org\n",
      "Created and shared sheet for cnuno@summitps.org\n",
      "Created and shared sheet for bcupp@summitps.org\n",
      "No new sheets\n"
     ]
    }
   ],
   "source": [
    "new_docs = True\n",
    "team_list = {\n",
    "    'ablack@summitps.org',\n",
    "    'aalimoh@summitps.org',\n",
    "    'hshen@summitps.org',\n",
    "    'echang@summitps.org',\n",
    "    'agourdin@summitps.org',\n",
    "    'mdunham@summitps.org',\n",
    "    'zdowning@summitps.org',\n",
    "    'bcupp@summitps.org',\n",
    "    'cnuno@summitps.org',\n",
    "}\n",
    "now = dt.datetime.now().strftime(\n",
    "    \"%a, %b %d @ %I:%M %p\")\n",
    "# Create each new sheet\n",
    "if new_docs == True:\n",
    "    sh = gs.create('Jan 2021 - Sheets Demo for Info Team',\n",
    "                   folder_id='1fdbvtQNcnaYm6i09-9Bt5215DRODaqXJ')\n",
    "    for member in team_list:\n",
    "        sh.share(member, perm_type='user',\n",
    "                 role='writer')  # Manager's email address\n",
    "        sh.add_worksheet(title=member, rows=\"1\", cols=\"1\")\n",
    "        print('Created and shared sheet for '+member)\n",
    "        time.sleep(8)\n",
    "        updsheet = sh.worksheet(member)\n",
    "        updsheet.update('A1', member+ ' is cool, as of '+now) # Post the update\n",
    "        updsheet.format(\"1:1\", {\"textFormat\": {\"bold\": True}}) # Make sure the header row is bolded. Not necessary w/ filter\n",
    "        updsheet.format(\"A1\", { # Set this column a particular color and text format\n",
    "            \"backgroundColor\": {\n",
    "                \"red\": 0.67,\n",
    "                \"green\": 1.0,\n",
    "                \"blue\": 0.76\n",
    "            },\n",
    "            \"horizontalAlignment\": \"CENTER\",\n",
    "            \"textFormat\": {\n",
    "                \"bold\": True,\n",
    "                \"italic\": True\n",
    "            }\n",
    "        })\n",
    "    else:\n",
    "        print('No new sheets')\n",
    "        pass"
   ]
  },
  {
   "cell_type": "code",
   "execution_count": null,
   "metadata": {},
   "outputs": [],
   "source": []
  }
 ],
 "metadata": {
  "kernelspec": {
   "display_name": "Python 3",
   "language": "python",
   "name": "python3"
  },
  "language_info": {
   "codemirror_mode": {
    "name": "ipython",
    "version": 3
   },
   "file_extension": ".py",
   "mimetype": "text/x-python",
   "name": "python",
   "nbconvert_exporter": "python",
   "pygments_lexer": "ipython3",
   "version": "3.7.6"
  },
  "toc": {
   "base_numbering": 1,
   "nav_menu": {},
   "number_sections": true,
   "sideBar": true,
   "skip_h1_title": false,
   "title_cell": "Table of Contents",
   "title_sidebar": "Contents",
   "toc_cell": false,
   "toc_position": {},
   "toc_section_display": true,
   "toc_window_display": false
  }
 },
 "nbformat": 4,
 "nbformat_minor": 4
}
