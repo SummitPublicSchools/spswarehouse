{
 "cells": [
  {
   "cell_type": "code",
   "execution_count": null,
   "id": "3471455a",
   "metadata": {},
   "outputs": [],
   "source": [
    "import importlib\n",
    "\n",
    "import sys\n",
    "sys.path.insert(0, \"..\") # Preference our local code first\n",
    "\n",
    "import spswarehouse.canvas"
   ]
  },
  {
   "cell_type": "code",
   "execution_count": null,
   "id": "4c698bb5",
   "metadata": {},
   "outputs": [],
   "source": [
    "# We can't use the system credentials since we're importing our local spswarehouse code\n",
    "canvas_config = {\n",
    "    \"client_id\": \"250260000000000002\",\n",
    "    \"client_secret\": \"[IN LASTPASS]\",\n",
    "    \"host\": \"https://summitps.beta.instructure.com\", # Defaulting to Beta for the sample notebook!\n",
    "    \"token\": {\n",
    "        \"access_token\": \"[IN LASTPASS]\",\n",
    "        \"refresh_token\": \"[IN LASTPASS]\",\n",
    "        \"token_type\": \"Bearer\",\n",
    "        \"expires_in\": \"3600\",\n",
    "    }\n",
    "}\n",
    "\n",
    "canvas = spswarehouse.canvas.CanvasClient(config=canvas_config)"
   ]
  },
  {
   "cell_type": "code",
   "execution_count": null,
   "id": "3c69c54a",
   "metadata": {},
   "outputs": [],
   "source": [
    "# Get the first page of users\n",
    "r = canvas.request(\"GET\",\"/api/v1/accounts/1/users\")\n",
    "r.json()"
   ]
  },
  {
   "cell_type": "code",
   "execution_count": null,
   "id": "6ea22569",
   "metadata": {},
   "outputs": [],
   "source": [
    "# Get all users\n",
    "canvas.get_paginated_json(\"/api/v1/accounts/1/users\")"
   ]
  },
  {
   "cell_type": "code",
   "execution_count": null,
   "id": "53d723d3",
   "metadata": {},
   "outputs": [],
   "source": [
    "# Add a user\n",
    "name = \"API Test\"\n",
    "email = \"apitest@summitps.org\"\n",
    "r = canvas.request(\"POST\", f\"/api/v1/accounts/1/users\", data={\n",
    "    \"user[name]\": name,\n",
    "    \"pseudonym[unique_id]\": email,\n",
    "    \"user[skip_registration]\": True,\n",
    "    \"pseudonym[send_confirmation]\": True,\n",
    "    \"pseudonym[authentication_provider_id]\":\"google\",\n",
    "    \"communication_channel[skip_confirmation]\": True,\n",
    "    \"initial_enrollment_type\": \"admin\",\n",
    "})\n",
    "r.json()"
   ]
  }
 ],
 "metadata": {
  "kernelspec": {
   "display_name": "Python 3 (ipykernel)",
   "language": "python",
   "name": "python3"
  },
  "language_info": {
   "codemirror_mode": {
    "name": "ipython",
    "version": 3
   },
   "file_extension": ".py",
   "mimetype": "text/x-python",
   "name": "python",
   "nbconvert_exporter": "python",
   "pygments_lexer": "ipython3",
   "version": "3.10.9"
  }
 },
 "nbformat": 4,
 "nbformat_minor": 5
}
