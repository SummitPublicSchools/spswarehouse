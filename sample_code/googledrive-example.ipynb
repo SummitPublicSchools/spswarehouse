{
 "cells": [
  {
   "cell_type": "markdown",
   "metadata": {},
   "source": [
    "# If you just updated `spswarehouse` you'll need to update `scopes` in `credentials.py` (Line 23) from `credentials.py.template` before using GoogleDrive.\n",
    "\n",
    "### GoogleDrive is a wrapper on pydrive.drive (https://pythonhosted.org/PyDrive/)"
   ]
  },
  {
   "cell_type": "code",
   "execution_count": 1,
   "metadata": {},
   "outputs": [
    {
     "name": "stdout",
     "output_type": "stream",
     "text": [
      "To access your Google Drive file, share the file with jupyter-sheets@sps-warehouse.iam.gserviceaccount.com\n"
     ]
    }
   ],
   "source": [
    "import spswarehouse\n",
    "from spswarehouse.table_utils import *\n",
    "from spswarehouse.warehouse import Warehouse\n",
    "from spswarehouse.googledrive import GoogleDrive\n",
    "\n",
    "import pandas as pd\n",
    "import os"
   ]
  },
  {
   "cell_type": "markdown",
   "metadata": {},
   "source": [
    "# Getting a list of available files"
   ]
  },
  {
   "cell_type": "code",
   "execution_count": 2,
   "metadata": {},
   "outputs": [
    {
     "name": "stdout",
     "output_type": "stream",
     "text": [
      "Title: spswarehouse_sample_file.csv, ID: 1Mug7698RhjfrVrIgHs6Yc3AM0mhGNA7q\n",
      "Title: Excellence Indicators Query Mapping, ID: 1zgLFoDQSdziCQUS-tMasoH7D5TgQVt2DGcAFz65Z3P0\n",
      "Title: DE-AP Student Datafile 2019.csv, ID: 1Oi1ojPryvonzIb6Qvi6pC49yJVgwVbTF\n",
      "Title: sites_historical, ID: 1A7tZtvvaED85wDtnm5BeM7pGWGDyaq5pXNyJIYgv9xU\n",
      "Title: SY19 - Final Grades Review - Sierra, ID: 1_sbVtOjkeo3LHCz4TAi15vwRw6RSakgX6ieJODc-l9w\n",
      "Title: SY19 - Final Grades Review - Rainier, ID: 1FToIfC0M-gYHuTbQcfhce8fsu1MFI9ZtEGLJcrnR2EM\n",
      "Title: SY19 - Final Grades Review, ID: 16fA-2eJqa1dO_V85osArWEg9aHvu9UcSH90NCtV2UCY\n",
      "Title: SY19 - Final Grades Review - Olympus, ID: 1EOdH6Z2Cgm1hjzGDV9t9ADvUuD2p5VUWaLOPf33OKpE\n",
      "Title: SY19 - Final Grades Review - Atlas, ID: 12WTQIuyvYAVbNpEuUg1ykSbuHAxc8uxPEK42WA3B0PQ\n",
      "Title: SY19 - Final Grades Review - Tamalpais, ID: 1y9t0e6mGRNtWHEu0Kp8DeyQmWgd9lnQ2Ot0aini8Xu8\n",
      "Title: SY19 - Final Grades Review - Tahoma, ID: 1fVh4nIksrxRB5W_U4FlGFybl7koppoB9B6wEt4cBhoY\n",
      "Title: SY19 - Final Grades Review - Summit Prep, ID: 1bCRAAxLeYi5RzxGGrwnbkbpCnm06ytjz0ieAOjq9zJs\n",
      "Title: SY19 - Final Grades Review - Shasta, ID: 1Z8n7_752ojtksAKA4OMnLCPDsABmczCgdcL4GfRrrwQ\n",
      "Title: SY19 - Final Grades Review - K2, ID: 19R524jJEGArFF_HXDQihVBQoU-OyI85dfnZvuB8kAes\n",
      "Title: SY19 - Final Grades Review - Everest, ID: 18cbmeVT61BbxBy_JkC_RH9N-69M8OECBnbzkvncrYDQ\n",
      "Title: SY19 - Final Grades Review - Denali, ID: 12WU-nyxntj21LxVv0UM8vfQpirflgEc-VTzeb-EwTZc\n",
      "Title: SY19 - Final Grades Review - Expeditions, ID: 1DIiq3Nl3RjSxeRhNnAyvzpxSLuudm2jITm9CZkNybsY\n",
      "Title: Getting started, ID: 0B237iHhl09yOc3RhcnRlcl9maWxl\n"
     ]
    }
   ],
   "source": [
    "# Retrieve all non-trashed files\n",
    "fileList = GoogleDrive.ListFile({'q': \"trashed = False\"}).GetList()\n",
    "# 'q' is a query parameter; see next cell for what fields can be queried\n",
    "# Other passable parameters: https://developers.google.com/drive/api/v3/reference/files/list\n",
    "for file in fileList:\n",
    "    print('Title: %s, ID: %s' % (file['title'], file['id']))"
   ]
  },
  {
   "cell_type": "code",
   "execution_count": 3,
   "metadata": {},
   "outputs": [
    {
     "name": "stdout",
     "output_type": "stream",
     "text": [
      "Title: SY19 - Final Grades Review - Sierra, ID: 1_sbVtOjkeo3LHCz4TAi15vwRw6RSakgX6ieJODc-l9w\n",
      "Title: SY19 - Final Grades Review - Rainier, ID: 1FToIfC0M-gYHuTbQcfhce8fsu1MFI9ZtEGLJcrnR2EM\n",
      "Title: SY19 - Final Grades Review, ID: 16fA-2eJqa1dO_V85osArWEg9aHvu9UcSH90NCtV2UCY\n",
      "Title: SY19 - Final Grades Review - Olympus, ID: 1EOdH6Z2Cgm1hjzGDV9t9ADvUuD2p5VUWaLOPf33OKpE\n",
      "Title: SY19 - Final Grades Review - Atlas, ID: 12WTQIuyvYAVbNpEuUg1ykSbuHAxc8uxPEK42WA3B0PQ\n",
      "Title: SY19 - Final Grades Review - Tamalpais, ID: 1y9t0e6mGRNtWHEu0Kp8DeyQmWgd9lnQ2Ot0aini8Xu8\n",
      "Title: SY19 - Final Grades Review - Tahoma, ID: 1fVh4nIksrxRB5W_U4FlGFybl7koppoB9B6wEt4cBhoY\n",
      "Title: SY19 - Final Grades Review - Summit Prep, ID: 1bCRAAxLeYi5RzxGGrwnbkbpCnm06ytjz0ieAOjq9zJs\n",
      "Title: SY19 - Final Grades Review - Shasta, ID: 1Z8n7_752ojtksAKA4OMnLCPDsABmczCgdcL4GfRrrwQ\n",
      "Title: SY19 - Final Grades Review - K2, ID: 19R524jJEGArFF_HXDQihVBQoU-OyI85dfnZvuB8kAes\n",
      "Title: SY19 - Final Grades Review - Everest, ID: 18cbmeVT61BbxBy_JkC_RH9N-69M8OECBnbzkvncrYDQ\n",
      "Title: SY19 - Final Grades Review - Denali, ID: 12WU-nyxntj21LxVv0UM8vfQpirflgEc-VTzeb-EwTZc\n",
      "Title: SY19 - Final Grades Review - Expeditions, ID: 1DIiq3Nl3RjSxeRhNnAyvzpxSLuudm2jITm9CZkNybsY\n"
     ]
    }
   ],
   "source": [
    "# Search for file by title\n",
    "fileList2 = GoogleDrive.ListFile({'q': \"title contains 'SY19 - Final'\"}).GetList()\n",
    "for file in fileList2:\n",
    "    print('Title: %s, ID: %s' % (file['title'], file['id']))"
   ]
  },
  {
   "cell_type": "code",
   "execution_count": null,
   "metadata": {},
   "outputs": [],
   "source": [
    "# Search for files in a folder\n",
    "folderID = '1NtuZczi7zPQqXAKcd60yQtzPDa6q3jA-'\n",
    "# You can get the folder id either by listing all files as above (folders show up in the list)\n",
    "# or by opening the folder in a browser and copying the string after `folder/`\n",
    "\n",
    "folderFiles = GoogleDrive.ListFile({'q': f\"'{folderID}' in parents\"}).GetList()\n",
    "for file in folderFiles:\n",
    "    print('Title: %s, ID: %s' % (file['title'], file['id']))"
   ]
  },
  {
   "cell_type": "code",
   "execution_count": null,
   "metadata": {},
   "outputs": [],
   "source": [
    "# Sample file parameters that can be queried\n",
    "# Some of these parameters are actually dictionaries, and contain additional parameters that can be queried\n",
    "# e.g., `trashed` is a parameter in `labels`\n",
    "\n",
    "# I highly recommend that you stick to querying title or all files\n",
    "\n",
    "file = fileList[-1]\n",
    "dict(file)"
   ]
  },
  {
   "cell_type": "markdown",
   "metadata": {},
   "source": [
    "# Retrieving a file"
   ]
  },
  {
   "cell_type": "code",
   "execution_count": 4,
   "metadata": {},
   "outputs": [
    {
     "name": "stdout",
     "output_type": "stream",
     "text": [
      "spswarehouse_sample_file.csv\n"
     ]
    }
   ],
   "source": [
    "# Option 1: Use the id\n",
    "# This is preferred, because it's guaranteed to return a single file\n",
    "\n",
    "# You can get the id either by using the list above \n",
    "# OR by clicking on the file in drive, `Get shareable link`, then copying everything after `id=`\n",
    "# e.g., https://drive.google.com/open?id=1Mug7698RhjfrVrIgHs6Yc3AM0mhGNA7q\n",
    "\n",
    "\n",
    "fileID = '1Mug7698RhjfrVrIgHs6Yc3AM0mhGNA7q' #This is the an old csv version of sites_historical\n",
    "# The id of the file can also be retrieved via `file['id']` (See the print statement in the file search examples)\n",
    "\n",
    "sampleFile = GoogleDrive.CreateFile({'id': fileID})\n",
    "print(sampleFile['title'])"
   ]
  },
  {
   "cell_type": "code",
   "execution_count": 5,
   "metadata": {},
   "outputs": [
    {
     "name": "stdout",
     "output_type": "stream",
     "text": [
      "spswarehouse_sample_file.csv\n"
     ]
    }
   ],
   "source": [
    "# Option 2: Do a title search\n",
    "# This can get messy if there are multiple files with the same name\n",
    "\n",
    "titleSampleFile = GoogleDrive.ListFile({'q': \"title = 'spswarehouse_sample_file.csv'\"}).GetList()[0]\n",
    "print(titleSampleFile['title'])"
   ]
  },
  {
   "cell_type": "code",
   "execution_count": null,
   "metadata": {},
   "outputs": [],
   "source": [
    "# Downloading the file to your local machine as a file called <filename>\n",
    "filename = 'data.csv'\n",
    "sampleFile.GetContentFile(filename)"
   ]
  },
  {
   "cell_type": "code",
   "execution_count": 6,
   "metadata": {},
   "outputs": [
    {
     "data": {
      "text/plain": [
       "'as_of,academic_year,site_id,site_name,site_short_name,grades_served,years_open,used_personalized_learning,authorizing_authority,school_leader,electives_schedule\\r\\n5/21/2019,2004,3,Summit Preparatory High School,Prep,\"{,9,}\",1,FALSE,Summerville Union HSD,Diane Tavenner,Intersession\\r\\n5/21/2019,2005,3,Summit Preparatory High School,Prep,\"{,9,10,}\",2,FALSE,Summerville Union HSD,Diane Tavenner,Intersession\\r\\n5/21/2019,2006,3,Summit Preparatory High School,Prep,\"{,9,10,11,}\",3,FALSE,Summerville Union HS'"
      ]
     },
     "execution_count": 6,
     "metadata": {},
     "output_type": "execute_result"
    }
   ],
   "source": [
    "# Retrieve file contents as a string, which you can then manipulate\n",
    "dataString = sampleFile.GetContentString()\n",
    "dataString[:500]"
   ]
  },
  {
   "cell_type": "markdown",
   "metadata": {},
   "source": [
    "# Uploading to Warehouse from Drive"
   ]
  },
  {
   "cell_type": "code",
   "execution_count": 7,
   "metadata": {},
   "outputs": [
    {
     "name": "stdout",
     "output_type": "stream",
     "text": [
      "CREATE TABLE wild_west.google_drive_test (as_of DATE, academic_year INTEGER, site_id INTEGER, site_name VARCHAR, site_short_name VARCHAR, grades_served VARCHAR, years_open INTEGER, used_personalized_learning BOOLEAN, authorizing_authority VARCHAR, school_leader VARCHAR, electives_schedule VARCHAR) COMMENT = ''\n"
     ]
    }
   ],
   "source": [
    "schema = 'wild_west'\n",
    "table_name = 'google_drive_test'\n",
    "\n",
    "create_sql = create_table_stmt(table_name, schema=schema, google_drive_id = fileID)\n",
    "print(create_sql)"
   ]
  },
  {
   "cell_type": "code",
   "execution_count": null,
   "metadata": {},
   "outputs": [],
   "source": [
    "Warehouse.execute(create_sql)"
   ]
  },
  {
   "cell_type": "code",
   "execution_count": null,
   "metadata": {},
   "outputs": [],
   "source": [
    "reflected_table = Warehouse.reflect(table_name, schema=schema)\n",
    "upload_to_warehouse(reflected_table, google_drive_id = fileID)"
   ]
  },
  {
   "cell_type": "markdown",
   "metadata": {},
   "source": [
    "# Cleanup of this notebook\n",
    "\n",
    "#### Run this when you're done to clean up loose ends."
   ]
  },
  {
   "cell_type": "code",
   "execution_count": null,
   "metadata": {},
   "outputs": [],
   "source": [
    "Warehouse.execute(f\"DROP TABLE IF EXISTS {schema}.{table_name}\")\n",
    "if os.path.exists(filename):\n",
    "    os.remove(filename)"
   ]
  }
 ],
 "metadata": {
  "kernelspec": {
   "display_name": "Python 3",
   "language": "python",
   "name": "python3"
  },
  "language_info": {
   "codemirror_mode": {
    "name": "ipython",
    "version": 3
   },
   "file_extension": ".py",
   "mimetype": "text/x-python",
   "name": "python",
   "nbconvert_exporter": "python",
   "pygments_lexer": "ipython3",
   "version": "3.7.3"
  }
 },
 "nbformat": 4,
 "nbformat_minor": 2
}
