{
 "cells": [
  {
   "cell_type": "markdown",
   "metadata": {},
   "source": [
    "# This example is not actually related to the spswarehouse package, but is included here because many of the same people are interested in it."
   ]
  },
  {
   "cell_type": "markdown",
   "metadata": {},
   "source": [
    "# Setup Tableau Connection"
   ]
  },
  {
   "cell_type": "code",
   "execution_count": null,
   "metadata": {},
   "outputs": [],
   "source": [
    "import requests\n",
    "import tableauserverclient as tableau\n",
    "import os"
   ]
  },
  {
   "cell_type": "code",
   "execution_count": null,
   "metadata": {},
   "outputs": [],
   "source": [
    "username = '<Tableau Username>'\n",
    "password = '<Tableau Password>'\n",
    "# Log into your Tableau Online instance to get the content_url:\n",
    "# https://10az.online.tableau.com/#/site/<content_url>/ should be the address in your browser bar\n",
    "content_url = '<content_url>'\n",
    "\n",
    "\n",
    "server = 'https://10az.online.tableau.com/'\n",
    "\n",
    "auth = tableau.TableauAuth(username, password, content_url)\n",
    "server = tableau.Server(server)\n",
    "\n",
    "server.use_server_version()"
   ]
  },
  {
   "cell_type": "markdown",
   "metadata": {},
   "source": [
    "# Some example code for creating PDFs.\n",
    "\n",
    "This is just to provide some sense of the function calls and how you can loop. You won't be able to run any of this on your own server.\n",
    "\n",
    "Note that you can only pass one value into a filter with these methods, so you will need to setup your data to handle circumvent that if you actually want a multiple value filter."
   ]
  },
  {
   "cell_type": "code",
   "execution_count": null,
   "metadata": {},
   "outputs": [],
   "source": [
    "# Lists of graphs to pull\n",
    "\n",
    "sbac_names = ['SBAC Math', 'SBAC Reading']\n",
    "\n",
    "# ca_demographics = [\n",
    "#     'Overall',\n",
    "#     'Is SED',\n",
    "#     'Not SED',\n",
    "#     'Is SPED',\n",
    "#     'Not SPED',\n",
    "#     'Is EL',\n",
    "#     'Not EL',\n",
    "#     'EO',\n",
    "#     'IFEP',\n",
    "#     'RFEP',\n",
    "#     'Asian',\n",
    "#     'Black',\n",
    "#     'Latino',\n",
    "#     'Two or More Races',\n",
    "#     'White',\n",
    "# ]\n",
    "\n",
    "# wa_demographics = [\n",
    "#     'Overall',\n",
    "# ]\n",
    "\n",
    "school_lists = [\n",
    "#     ['Atlas HS', 'Tacoma SD', 'Washington'],\n",
    "#     ['Atlas MS', 'Tacoma SD', 'Washington'],\n",
    "#     ['Denali HS', 'Fremont Union', 'California'],\n",
    "#     ['Denali MS', 'Sunnyvale SD', 'California'],\n",
    "#     ['Everest', 'Sequoia Union', 'California'],\n",
    "#     ['K2 HS', 'West Contra Costa', 'California'],\n",
    "#     ['K2 MS', 'West Contra Costa', 'California'],\n",
    "    ['Olympus', 'Tacoma SD', 'Washington'],\n",
    "#     ['Prep', 'Sequoia Union', 'California'],\n",
    "#     ['Rainier', 'East Side Union', 'California'],\n",
    "#     ['Shasta', 'Jefferson Union', 'California'],\n",
    "    ['Sierra', 'Seattle School District #1', 'Washington'],\n",
    "#     ['Tahoma', 'East Side Union', 'California'],\n",
    "#     ['Tam HS', 'West Contra Costa', 'California'],\n",
    "#     ['Tam MS', 'West Contra Costa', 'California'],\n",
    "]\n",
    "\n",
    "over_time_school_list = [\n",
    "    'Everest',\n",
    "    'Prep',\n",
    "    'Rainier',\n",
    "    'Shasta',\n",
    "    'Tahoma',\n",
    "]\n",
    "\n",
    "over_time_data = [\n",
    "    'College Acceptance',\n",
    "    'College Matriculation',\n",
    "    'GPA'\n",
    "]"
   ]
  },
  {
   "cell_type": "code",
   "execution_count": null,
   "metadata": {},
   "outputs": [],
   "source": [
    "# External Comparisons\n",
    "external_comp_view_name = 'EG - External Comparison - Long'\n",
    "\n",
    "with server.auth.sign_in(auth):\n",
    "    view = tableau.RequestOptions()\n",
    "    view.filter.add(tableau.Filter(tableau.RequestOptions.Field.Name,\n",
    "                                     tableau.RequestOptions.Operator.Equals,\n",
    "                                     external_comp_view_name))\n",
    "    \n",
    "    view_item, pagination_item = server.views.get(view)\n",
    "    \n",
    "    for school in school_lists:\n",
    "        for test in sbac_names:\n",
    "            path = f'./{school[0]}/{test}.pdf'\n",
    "            os.makedirs(os.path.dirname(path), exist_ok=True)\n",
    "            filters = tableau.PDFRequestOptions(page_type=tableau.PDFRequestOptions.PageType.Letter)\n",
    "            filters.vf(school[0], 'Yes')\n",
    "            filters.vf('Excellence Goal', test)\n",
    "            server.views.populate_pdf(view_item[0], filters)\n",
    "            with open(path, 'wb') as f:\n",
    "                f.write(view_item[0].pdf)"
   ]
  },
  {
   "cell_type": "code",
   "execution_count": null,
   "metadata": {},
   "outputs": [],
   "source": [
    "# External Comparison - CA Test\n",
    "external_comp_view_name = 'EG - External Comparison - Long'\n",
    "with server.auth.sign_in(auth):\n",
    "    view = tableau.RequestOptions()\n",
    "    view.filter.add(tableau.Filter(tableau.RequestOptions.Field.Name,\n",
    "                                     tableau.RequestOptions.Operator.Equals,\n",
    "                                     external_comp_view_name))\n",
    "    \n",
    "    view_item, pagination_item = server.views.get(view)\n",
    "    \n",
    "    school = school_lists[4]\n",
    "    for test in sbac_names:\n",
    "        path = f'./{school[0]}/{test}.pdf'\n",
    "        os.makedirs(os.path.dirname(path), exist_ok=True)\n",
    "        filters = tableau.PDFRequestOptions(page_type=tableau.PDFRequestOptions.PageType.Letter)\n",
    "        filters.vf(school[0], 'Yes')\n",
    "        filters.vf('Excellence Goal', test)\n",
    "        server.views.populate_pdf(view_item[0], filters)\n",
    "        with open(path, 'wb') as f:\n",
    "            f.write(view_item[0].pdf)"
   ]
  },
  {
   "cell_type": "code",
   "execution_count": null,
   "metadata": {},
   "outputs": [],
   "source": [
    "# External Comparison - WA Test\n",
    "external_comp_view_name = 'EG - External Comparison - Long'\n",
    "with server.auth.sign_in(auth):\n",
    "    view = tableau.RequestOptions()\n",
    "    view.filter.add(tableau.Filter(tableau.RequestOptions.Field.Name,\n",
    "                                     tableau.RequestOptions.Operator.Equals,\n",
    "                                     external_comp_view_name))\n",
    "    \n",
    "    view_item, pagination_item = server.views.get(view)\n",
    "    \n",
    "    school = school_lists[7]\n",
    "    for test in sbac_names:\n",
    "        print(school[0])\n",
    "        path = f'./{school[0]}/{test}.pdf'\n",
    "        os.makedirs(os.path.dirname(path), exist_ok=True)\n",
    "        filters = tableau.PDFRequestOptions(page_type=tableau.PDFRequestOptions.PageType.Letter)\n",
    "        filters.vf(school[0], 'Yes')\n",
    "        filters.vf('Excellence Goal', test)\n",
    "        server.views.populate_pdf(view_item[0], filters)\n",
    "        with open(path, 'wb') as f:\n",
    "            f.write(view_item[0].pdf)"
   ]
  },
  {
   "cell_type": "markdown",
   "metadata": {},
   "source": [
    "# Over Time"
   ]
  },
  {
   "cell_type": "code",
   "execution_count": null,
   "metadata": {},
   "outputs": [],
   "source": [
    "# Over Time\n",
    "over_time_view_name = 'EG - Over Time'\n",
    "\n",
    "with server.auth.sign_in(auth):\n",
    "    view = tableau.RequestOptions()\n",
    "    view.filter.add(tableau.Filter(tableau.RequestOptions.Field.Name,\n",
    "                                     tableau.RequestOptions.Operator.Equals,\n",
    "                                     over_time_view_name))\n",
    "    \n",
    "    view_item, pagination_item = server.views.get(view)\n",
    "    \n",
    "    for school in over_time_school_list:\n",
    "        for goal in over_time_data:\n",
    "            path = f'./{school}/{goal}.pdf'\n",
    "            os.makedirs(os.path.dirname(path), exist_ok=True)\n",
    "            filters = tableau.PDFRequestOptions(page_type=tableau.PDFRequestOptions.PageType.Letter)\n",
    "            filters.vf('School', school)\n",
    "            filters.vf('Excellence Goal', goal)\n",
    "            server.views.populate_pdf(view_item[0], filters)\n",
    "            with open(path, 'wb') as f:\n",
    "                f.write(view_item[0].pdf)"
   ]
  },
  {
   "cell_type": "code",
   "execution_count": null,
   "metadata": {},
   "outputs": [],
   "source": [
    "# Over Time tester\n",
    "over_time_view_name = 'EG - Over Time'\n",
    "\n",
    "with server.auth.sign_in(auth):\n",
    "    view = tableau.RequestOptions()\n",
    "    view.filter.add(tableau.Filter(tableau.RequestOptions.Field.Name,\n",
    "                                     tableau.RequestOptions.Operator.Equals,\n",
    "                                     over_time_view_name))\n",
    "    \n",
    "    view_item, pagination_item = server.views.get(view)\n",
    "    \n",
    "    school = over_time_school_list[3]\n",
    "    for goal in over_time_data:\n",
    "        path = f'./{school}/{goal}.pdf'\n",
    "        os.makedirs(os.path.dirname(path), exist_ok=True)\n",
    "        filters = tableau.PDFRequestOptions(page_type=tableau.PDFRequestOptions.PageType.Letter)\n",
    "        filters.vf('School', school)\n",
    "        filters.vf('Excellence Goal', goal)\n",
    "        server.views.populate_pdf(view_item[0], filters)\n",
    "        with open(path, 'wb') as f:\n",
    "            f.write(view_item[0].pdf)"
   ]
  },
  {
   "cell_type": "code",
   "execution_count": null,
   "metadata": {},
   "outputs": [],
   "source": []
  }
 ],
 "metadata": {
  "kernelspec": {
   "display_name": "Python 3",
   "language": "python",
   "name": "python3"
  },
  "language_info": {
   "codemirror_mode": {
    "name": "ipython",
    "version": 3
   },
   "file_extension": ".py",
   "mimetype": "text/x-python",
   "name": "python",
   "nbconvert_exporter": "python",
   "pygments_lexer": "ipython3",
   "version": "3.7.3"
  }
 },
 "nbformat": 4,
 "nbformat_minor": 4
}
